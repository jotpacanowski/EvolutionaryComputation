{
 "cells": [
  {
   "cell_type": "markdown",
   "metadata": {},
   "source": [
    "..."
   ]
  },
  {
   "cell_type": "code",
   "execution_count": 1,
   "metadata": {},
   "outputs": [],
   "source": [
    "# https://cookiecutter-data-science.drivendata.org/using-the-template/\n",
    "%load_ext autoreload\n",
    "%autoreload 2\n",
    "\n",
    "import numpy as np\n",
    "import pandas as pd"
   ]
  },
  {
   "cell_type": "markdown",
   "metadata": {},
   "source": [
    "Reading problem instance\n",
    "\n",
    "1. `node_costs[i]` - cost if node is used in the solution\n",
    "2. `xy[i]` - pair of x,y coordinates of i-th point\n",
    "3. `distmat` - distance matrix, in this case it's symmetric\n",
    "    `D[a,b]` is the distance from A to B"
   ]
  },
  {
   "cell_type": "code",
   "execution_count": null,
   "metadata": {},
   "outputs": [],
   "source": [
    "import tsp\n",
    "\n",
    "costs, xy_points, D = tsp.instances.read_instance_xyv('../data/instances/TSPA.csv')\n",
    "\n",
    "print(costs.shape, costs.dtype)\n",
    "print(xy_points.shape, xy_points.dtype)\n",
    "print(D.shape, D.dtype)"
   ]
  }
 ],
 "metadata": {
  "kernelspec": {
   "display_name": ".venv",
   "language": "python",
   "name": "python3"
  },
  "language_info": {
   "codemirror_mode": {
    "name": "ipython",
    "version": 3
   },
   "file_extension": ".py",
   "mimetype": "text/x-python",
   "name": "python",
   "nbconvert_exporter": "python",
   "pygments_lexer": "ipython3",
   "version": "3.10.11"
  }
 },
 "nbformat": 4,
 "nbformat_minor": 2
}
